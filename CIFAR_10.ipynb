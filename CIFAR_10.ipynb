{
  "nbformat": 4,
  "nbformat_minor": 0,
  "metadata": {
    "colab": {
      "name": "Untitled0.ipynb",
      "provenance": [],
      "authorship_tag": "ABX9TyOAGSV1LkF5vZ2wx8238zky",
      "include_colab_link": true
    },
    "kernelspec": {
      "name": "python3",
      "display_name": "Python 3"
    },
    "language_info": {
      "name": "python"
    },
    "accelerator": "GPU"
  },
  "cells": [
    {
      "cell_type": "markdown",
      "metadata": {
        "id": "view-in-github",
        "colab_type": "text"
      },
      "source": [
        "<a href=\"https://colab.research.google.com/github/Prashanth-Telkar/ML-DL_Projects/blob/main/CIFAR_10.ipynb\" target=\"_parent\"><img src=\"https://colab.research.google.com/assets/colab-badge.svg\" alt=\"Open In Colab\"/></a>"
      ]
    },
    {
      "cell_type": "code",
      "source": [
        "# CNN FOR CIFAR-10 DATASET with Dropouts, BatchNormalization, l2_Normalization. "
      ],
      "metadata": {
        "id": "YxYVNGddrww7"
      },
      "execution_count": 1,
      "outputs": []
    },
    {
      "cell_type": "code",
      "execution_count": 2,
      "metadata": {
        "id": "uNuGzEiYhodF"
      },
      "outputs": [],
      "source": [
        "import numpy as np\n",
        "import tensorflow as tf\n",
        "from tensorflow.keras import Sequential\n",
        "from tensorflow.keras.layers import Conv2D, MaxPooling2D, Flatten, Dense, Dropout, BatchNormalization\n",
        "from tensorflow.keras.datasets import cifar10\n",
        "from tensorflow.keras.regularizers import l2\n",
        "import seaborn as sns\n",
        "import matplotlib.pyplot as plt"
      ]
    },
    {
      "cell_type": "code",
      "source": [
        ""
      ],
      "metadata": {
        "id": "KhYi8vZGh6kZ"
      },
      "execution_count": 2,
      "outputs": []
    },
    {
      "cell_type": "code",
      "source": [
        "(X_train,y_train),(X_test,y_test)=cifar10.load_data()"
      ],
      "metadata": {
        "id": "vmkuHJPmhxk0"
      },
      "execution_count": 3,
      "outputs": []
    },
    {
      "cell_type": "code",
      "source": [
        "X_train[0]"
      ],
      "metadata": {
        "colab": {
          "base_uri": "https://localhost:8080/"
        },
        "id": "0d5vbPKjhzjM",
        "outputId": "dfd1ff37-e165-4658-9947-3d67bd290ac0"
      },
      "execution_count": 4,
      "outputs": [
        {
          "output_type": "execute_result",
          "data": {
            "text/plain": [
              "array([[[ 59,  62,  63],\n",
              "        [ 43,  46,  45],\n",
              "        [ 50,  48,  43],\n",
              "        ...,\n",
              "        [158, 132, 108],\n",
              "        [152, 125, 102],\n",
              "        [148, 124, 103]],\n",
              "\n",
              "       [[ 16,  20,  20],\n",
              "        [  0,   0,   0],\n",
              "        [ 18,   8,   0],\n",
              "        ...,\n",
              "        [123,  88,  55],\n",
              "        [119,  83,  50],\n",
              "        [122,  87,  57]],\n",
              "\n",
              "       [[ 25,  24,  21],\n",
              "        [ 16,   7,   0],\n",
              "        [ 49,  27,   8],\n",
              "        ...,\n",
              "        [118,  84,  50],\n",
              "        [120,  84,  50],\n",
              "        [109,  73,  42]],\n",
              "\n",
              "       ...,\n",
              "\n",
              "       [[208, 170,  96],\n",
              "        [201, 153,  34],\n",
              "        [198, 161,  26],\n",
              "        ...,\n",
              "        [160, 133,  70],\n",
              "        [ 56,  31,   7],\n",
              "        [ 53,  34,  20]],\n",
              "\n",
              "       [[180, 139,  96],\n",
              "        [173, 123,  42],\n",
              "        [186, 144,  30],\n",
              "        ...,\n",
              "        [184, 148,  94],\n",
              "        [ 97,  62,  34],\n",
              "        [ 83,  53,  34]],\n",
              "\n",
              "       [[177, 144, 116],\n",
              "        [168, 129,  94],\n",
              "        [179, 142,  87],\n",
              "        ...,\n",
              "        [216, 184, 140],\n",
              "        [151, 118,  84],\n",
              "        [123,  92,  72]]], dtype=uint8)"
            ]
          },
          "metadata": {},
          "execution_count": 4
        }
      ]
    },
    {
      "cell_type": "code",
      "source": [
        "X_train.shape"
      ],
      "metadata": {
        "colab": {
          "base_uri": "https://localhost:8080/"
        },
        "id": "OszS4YU2iD4z",
        "outputId": "72fdac0a-7048-446c-f7cc-e139fa1afeca"
      },
      "execution_count": 5,
      "outputs": [
        {
          "output_type": "execute_result",
          "data": {
            "text/plain": [
              "(50000, 32, 32, 3)"
            ]
          },
          "metadata": {},
          "execution_count": 5
        }
      ]
    },
    {
      "cell_type": "code",
      "source": [
        "y_train.shape"
      ],
      "metadata": {
        "colab": {
          "base_uri": "https://localhost:8080/"
        },
        "id": "Rc7H_xQakgOP",
        "outputId": "1e0a1865-9580-40ab-85a6-ece20f1151fa"
      },
      "execution_count": 6,
      "outputs": [
        {
          "output_type": "execute_result",
          "data": {
            "text/plain": [
              "(50000, 1)"
            ]
          },
          "metadata": {},
          "execution_count": 6
        }
      ]
    },
    {
      "cell_type": "code",
      "source": [
        "y_train"
      ],
      "metadata": {
        "colab": {
          "base_uri": "https://localhost:8080/"
        },
        "id": "n1ME8n_AkjW-",
        "outputId": "14f5da65-df35-44f4-9a99-8d7b1ebaaf3d"
      },
      "execution_count": 7,
      "outputs": [
        {
          "output_type": "execute_result",
          "data": {
            "text/plain": [
              "array([[6],\n",
              "       [9],\n",
              "       [9],\n",
              "       ...,\n",
              "       [9],\n",
              "       [1],\n",
              "       [1]], dtype=uint8)"
            ]
          },
          "metadata": {},
          "execution_count": 7
        }
      ]
    },
    {
      "cell_type": "code",
      "source": [
        "y_test.shape"
      ],
      "metadata": {
        "colab": {
          "base_uri": "https://localhost:8080/"
        },
        "id": "Nxv2yrUckuln",
        "outputId": "a6c6ecc9-7b63-42fe-8595-5d40a04181cd"
      },
      "execution_count": 8,
      "outputs": [
        {
          "output_type": "execute_result",
          "data": {
            "text/plain": [
              "(10000, 1)"
            ]
          },
          "metadata": {},
          "execution_count": 8
        }
      ]
    },
    {
      "cell_type": "code",
      "source": [
        "y_train=tf.keras.utils.to_categorical(y_train,10)\n",
        "y_train.shape"
      ],
      "metadata": {
        "colab": {
          "base_uri": "https://localhost:8080/"
        },
        "id": "4tMmBLSvlJ9Q",
        "outputId": "30ef67de-b1ee-4ae9-d12f-cf4c5261a0bc"
      },
      "execution_count": 9,
      "outputs": [
        {
          "output_type": "execute_result",
          "data": {
            "text/plain": [
              "(50000, 10)"
            ]
          },
          "metadata": {},
          "execution_count": 9
        }
      ]
    },
    {
      "cell_type": "code",
      "source": [
        "y_test=tf.keras.utils.to_categorical(y_test,10)\n",
        "y_test.shape"
      ],
      "metadata": {
        "colab": {
          "base_uri": "https://localhost:8080/"
        },
        "id": "V8bU5uHIlXuv",
        "outputId": "18bee1c2-05e6-419b-c4d5-c1858b75626f"
      },
      "execution_count": 10,
      "outputs": [
        {
          "output_type": "execute_result",
          "data": {
            "text/plain": [
              "(10000, 10)"
            ]
          },
          "metadata": {},
          "execution_count": 10
        }
      ]
    },
    {
      "cell_type": "code",
      "source": [
        "X_train.dtype"
      ],
      "metadata": {
        "colab": {
          "base_uri": "https://localhost:8080/"
        },
        "id": "aEv64QT9lfIx",
        "outputId": "12dbdd7d-8b71-49de-f479-a0ee73e6d1c6"
      },
      "execution_count": 11,
      "outputs": [
        {
          "output_type": "execute_result",
          "data": {
            "text/plain": [
              "dtype('uint8')"
            ]
          },
          "metadata": {},
          "execution_count": 11
        }
      ]
    },
    {
      "cell_type": "code",
      "source": [
        "X_train=X_train.astype('float32')\n",
        "X_test=X_test.astype('float32')"
      ],
      "metadata": {
        "id": "InTKtw05l4wz"
      },
      "execution_count": 12,
      "outputs": []
    },
    {
      "cell_type": "code",
      "source": [
        "X_train.dtype"
      ],
      "metadata": {
        "colab": {
          "base_uri": "https://localhost:8080/"
        },
        "id": "t460DQiimCPg",
        "outputId": "b27d5f45-1303-49e9-9d68-962c0e561ff5"
      },
      "execution_count": 13,
      "outputs": [
        {
          "output_type": "execute_result",
          "data": {
            "text/plain": [
              "dtype('float32')"
            ]
          },
          "metadata": {},
          "execution_count": 13
        }
      ]
    },
    {
      "cell_type": "code",
      "source": [
        "X_train/=255\n",
        "X_test/=255\n",
        "X_train[0]"
      ],
      "metadata": {
        "colab": {
          "base_uri": "https://localhost:8080/"
        },
        "id": "GfIp6zRxmD4c",
        "outputId": "c828210b-560b-4e18-bc35-aa8959418231"
      },
      "execution_count": 14,
      "outputs": [
        {
          "output_type": "execute_result",
          "data": {
            "text/plain": [
              "array([[[0.23137255, 0.24313726, 0.24705882],\n",
              "        [0.16862746, 0.18039216, 0.1764706 ],\n",
              "        [0.19607843, 0.1882353 , 0.16862746],\n",
              "        ...,\n",
              "        [0.61960787, 0.5176471 , 0.42352942],\n",
              "        [0.59607846, 0.49019608, 0.4       ],\n",
              "        [0.5803922 , 0.4862745 , 0.40392157]],\n",
              "\n",
              "       [[0.0627451 , 0.07843138, 0.07843138],\n",
              "        [0.        , 0.        , 0.        ],\n",
              "        [0.07058824, 0.03137255, 0.        ],\n",
              "        ...,\n",
              "        [0.48235294, 0.34509805, 0.21568628],\n",
              "        [0.46666667, 0.3254902 , 0.19607843],\n",
              "        [0.47843137, 0.34117648, 0.22352941]],\n",
              "\n",
              "       [[0.09803922, 0.09411765, 0.08235294],\n",
              "        [0.0627451 , 0.02745098, 0.        ],\n",
              "        [0.19215687, 0.10588235, 0.03137255],\n",
              "        ...,\n",
              "        [0.4627451 , 0.32941177, 0.19607843],\n",
              "        [0.47058824, 0.32941177, 0.19607843],\n",
              "        [0.42745098, 0.28627452, 0.16470589]],\n",
              "\n",
              "       ...,\n",
              "\n",
              "       [[0.8156863 , 0.6666667 , 0.3764706 ],\n",
              "        [0.7882353 , 0.6       , 0.13333334],\n",
              "        [0.7764706 , 0.6313726 , 0.10196079],\n",
              "        ...,\n",
              "        [0.627451  , 0.52156866, 0.27450982],\n",
              "        [0.21960784, 0.12156863, 0.02745098],\n",
              "        [0.20784314, 0.13333334, 0.07843138]],\n",
              "\n",
              "       [[0.7058824 , 0.54509807, 0.3764706 ],\n",
              "        [0.6784314 , 0.48235294, 0.16470589],\n",
              "        [0.7294118 , 0.5647059 , 0.11764706],\n",
              "        ...,\n",
              "        [0.72156864, 0.5803922 , 0.36862746],\n",
              "        [0.38039216, 0.24313726, 0.13333334],\n",
              "        [0.3254902 , 0.20784314, 0.13333334]],\n",
              "\n",
              "       [[0.69411767, 0.5647059 , 0.45490196],\n",
              "        [0.65882355, 0.5058824 , 0.36862746],\n",
              "        [0.7019608 , 0.5568628 , 0.34117648],\n",
              "        ...,\n",
              "        [0.84705883, 0.72156864, 0.54901963],\n",
              "        [0.5921569 , 0.4627451 , 0.32941177],\n",
              "        [0.48235294, 0.36078432, 0.28235295]]], dtype=float32)"
            ]
          },
          "metadata": {},
          "execution_count": 14
        }
      ]
    },
    {
      "cell_type": "code",
      "source": [
        "model=Sequential()\n",
        "\n",
        "model.add(Conv2D(32,(3,3),padding='same',input_shape=X_train.shape[1:],activation='relu'))\n",
        "model.add(BatchNormalization())\n",
        "model.add(Conv2D(32,(3,3),activation='relu'))\n",
        "model.add(BatchNormalization())\n",
        "model.add(MaxPooling2D(pool_size=(2,2)))\n",
        "model.add(Dropout(0.25))\n",
        "\n",
        "model.add(Conv2D(64,(3,3),padding='same',input_shape=X_train.shape[1:],activation='relu'))\n",
        "model.add(BatchNormalization())\n",
        "model.add(Conv2D(64,(3,3),activation='relu'))\n",
        "model.add(BatchNormalization())\n",
        "model.add(MaxPooling2D(pool_size=(2,2)))\n",
        "model.add(Dropout(0.25))\n",
        "\n",
        "model.add(Conv2D(128,(3,3),padding='same',input_shape=X_train.shape[1:],activation='relu'))\n",
        "model.add(BatchNormalization())\n",
        "model.add(Conv2D(128,(3,3),activation='relu'))\n",
        "model.add(BatchNormalization())\n",
        "model.add(MaxPooling2D(pool_size=(2,2)))\n",
        "model.add(Dropout(0.25))\n",
        "\n",
        "model.add(Flatten())\n",
        "model.add(Dense(512,activation='relu',kernel_regularizer=l2(0.01))) \n",
        "model.add(Dropout(0.5))\n",
        "model.add(Dense(10,activation='softmax'))\n",
        "\n",
        "model.summary()\n",
        "\n"
      ],
      "metadata": {
        "colab": {
          "base_uri": "https://localhost:8080/"
        },
        "id": "1cEIoxLah28q",
        "outputId": "db260b9e-e2f5-436d-c2be-19ecce5cdbeb"
      },
      "execution_count": 15,
      "outputs": [
        {
          "output_type": "stream",
          "name": "stdout",
          "text": [
            "Model: \"sequential\"\n",
            "_________________________________________________________________\n",
            " Layer (type)                Output Shape              Param #   \n",
            "=================================================================\n",
            " conv2d (Conv2D)             (None, 32, 32, 32)        896       \n",
            "                                                                 \n",
            " batch_normalization (BatchN  (None, 32, 32, 32)       128       \n",
            " ormalization)                                                   \n",
            "                                                                 \n",
            " conv2d_1 (Conv2D)           (None, 30, 30, 32)        9248      \n",
            "                                                                 \n",
            " batch_normalization_1 (Batc  (None, 30, 30, 32)       128       \n",
            " hNormalization)                                                 \n",
            "                                                                 \n",
            " max_pooling2d (MaxPooling2D  (None, 15, 15, 32)       0         \n",
            " )                                                               \n",
            "                                                                 \n",
            " dropout (Dropout)           (None, 15, 15, 32)        0         \n",
            "                                                                 \n",
            " conv2d_2 (Conv2D)           (None, 15, 15, 64)        18496     \n",
            "                                                                 \n",
            " batch_normalization_2 (Batc  (None, 15, 15, 64)       256       \n",
            " hNormalization)                                                 \n",
            "                                                                 \n",
            " conv2d_3 (Conv2D)           (None, 13, 13, 64)        36928     \n",
            "                                                                 \n",
            " batch_normalization_3 (Batc  (None, 13, 13, 64)       256       \n",
            " hNormalization)                                                 \n",
            "                                                                 \n",
            " max_pooling2d_1 (MaxPooling  (None, 6, 6, 64)         0         \n",
            " 2D)                                                             \n",
            "                                                                 \n",
            " dropout_1 (Dropout)         (None, 6, 6, 64)          0         \n",
            "                                                                 \n",
            " conv2d_4 (Conv2D)           (None, 6, 6, 128)         73856     \n",
            "                                                                 \n",
            " batch_normalization_4 (Batc  (None, 6, 6, 128)        512       \n",
            " hNormalization)                                                 \n",
            "                                                                 \n",
            " conv2d_5 (Conv2D)           (None, 4, 4, 128)         147584    \n",
            "                                                                 \n",
            " batch_normalization_5 (Batc  (None, 4, 4, 128)        512       \n",
            " hNormalization)                                                 \n",
            "                                                                 \n",
            " max_pooling2d_2 (MaxPooling  (None, 2, 2, 128)        0         \n",
            " 2D)                                                             \n",
            "                                                                 \n",
            " dropout_2 (Dropout)         (None, 2, 2, 128)         0         \n",
            "                                                                 \n",
            " flatten (Flatten)           (None, 512)               0         \n",
            "                                                                 \n",
            " dense (Dense)               (None, 512)               262656    \n",
            "                                                                 \n",
            " dropout_3 (Dropout)         (None, 512)               0         \n",
            "                                                                 \n",
            " dense_1 (Dense)             (None, 10)                5130      \n",
            "                                                                 \n",
            "=================================================================\n",
            "Total params: 556,586\n",
            "Trainable params: 555,690\n",
            "Non-trainable params: 896\n",
            "_________________________________________________________________\n"
          ]
        }
      ]
    },
    {
      "cell_type": "code",
      "source": [
        "model.compile(loss='categorical_crossentropy',optimizer='sgd',metrics=['accuracy'])"
      ],
      "metadata": {
        "id": "udjXyEaHlhxw"
      },
      "execution_count": 16,
      "outputs": []
    },
    {
      "cell_type": "code",
      "source": [
        "model.fit(X_train,y_train,batch_size=32,epochs=50,validation_data=(X_test,y_test),shuffle=True)"
      ],
      "metadata": {
        "colab": {
          "base_uri": "https://localhost:8080/"
        },
        "id": "4KcsX9cYoa3e",
        "outputId": "fbe0088a-d6b4-4272-d719-3b27cbcec6c9"
      },
      "execution_count": 17,
      "outputs": [
        {
          "output_type": "stream",
          "name": "stdout",
          "text": [
            "Epoch 1/50\n",
            "1563/1563 [==============================] - 15s 8ms/step - loss: 5.5412 - accuracy: 0.3774 - val_loss: 4.3169 - val_accuracy: 0.4335\n",
            "Epoch 2/50\n",
            "1563/1563 [==============================] - 12s 8ms/step - loss: 3.3654 - accuracy: 0.5179 - val_loss: 2.7569 - val_accuracy: 0.5509\n",
            "Epoch 3/50\n",
            "1563/1563 [==============================] - 12s 7ms/step - loss: 2.2589 - accuracy: 0.5873 - val_loss: 1.8692 - val_accuracy: 0.6294\n",
            "Epoch 4/50\n",
            "1563/1563 [==============================] - 12s 8ms/step - loss: 1.6483 - accuracy: 0.6327 - val_loss: 1.4152 - val_accuracy: 0.6518\n",
            "Epoch 5/50\n",
            "1563/1563 [==============================] - 12s 7ms/step - loss: 1.3050 - accuracy: 0.6613 - val_loss: 1.1642 - val_accuracy: 0.6812\n",
            "Epoch 6/50\n",
            "1563/1563 [==============================] - 12s 7ms/step - loss: 1.0947 - accuracy: 0.6897 - val_loss: 1.0163 - val_accuracy: 0.7026\n",
            "Epoch 7/50\n",
            "1563/1563 [==============================] - 12s 7ms/step - loss: 0.9751 - accuracy: 0.7085 - val_loss: 0.8933 - val_accuracy: 0.7288\n",
            "Epoch 8/50\n",
            "1563/1563 [==============================] - 12s 7ms/step - loss: 0.8960 - accuracy: 0.7257 - val_loss: 0.8236 - val_accuracy: 0.7412\n",
            "Epoch 9/50\n",
            "1563/1563 [==============================] - 12s 7ms/step - loss: 0.8430 - accuracy: 0.7362 - val_loss: 0.7764 - val_accuracy: 0.7568\n",
            "Epoch 10/50\n",
            "1563/1563 [==============================] - 11s 7ms/step - loss: 0.8020 - accuracy: 0.7487 - val_loss: 0.7539 - val_accuracy: 0.7620\n",
            "Epoch 11/50\n",
            "1563/1563 [==============================] - 11s 7ms/step - loss: 0.7728 - accuracy: 0.7565 - val_loss: 0.7931 - val_accuracy: 0.7494\n",
            "Epoch 12/50\n",
            "1563/1563 [==============================] - 11s 7ms/step - loss: 0.7414 - accuracy: 0.7665 - val_loss: 0.7544 - val_accuracy: 0.7640\n",
            "Epoch 13/50\n",
            "1563/1563 [==============================] - 11s 7ms/step - loss: 0.7227 - accuracy: 0.7736 - val_loss: 0.7042 - val_accuracy: 0.7801\n",
            "Epoch 14/50\n",
            "1563/1563 [==============================] - 11s 7ms/step - loss: 0.6995 - accuracy: 0.7821 - val_loss: 0.6986 - val_accuracy: 0.7836\n",
            "Epoch 15/50\n",
            "1563/1563 [==============================] - 11s 7ms/step - loss: 0.6782 - accuracy: 0.7887 - val_loss: 0.6735 - val_accuracy: 0.7912\n",
            "Epoch 16/50\n",
            "1563/1563 [==============================] - 12s 7ms/step - loss: 0.6644 - accuracy: 0.7951 - val_loss: 0.6473 - val_accuracy: 0.8036\n",
            "Epoch 17/50\n",
            "1563/1563 [==============================] - 11s 7ms/step - loss: 0.6500 - accuracy: 0.8011 - val_loss: 0.6543 - val_accuracy: 0.7996\n",
            "Epoch 18/50\n",
            "1563/1563 [==============================] - 11s 7ms/step - loss: 0.6341 - accuracy: 0.8062 - val_loss: 0.6414 - val_accuracy: 0.8054\n",
            "Epoch 19/50\n",
            "1563/1563 [==============================] - 11s 7ms/step - loss: 0.6239 - accuracy: 0.8102 - val_loss: 0.6367 - val_accuracy: 0.8075\n",
            "Epoch 20/50\n",
            "1563/1563 [==============================] - 11s 7ms/step - loss: 0.6064 - accuracy: 0.8167 - val_loss: 0.6268 - val_accuracy: 0.8106\n",
            "Epoch 21/50\n",
            "1563/1563 [==============================] - 11s 7ms/step - loss: 0.5928 - accuracy: 0.8213 - val_loss: 0.6360 - val_accuracy: 0.8066\n",
            "Epoch 22/50\n",
            "1563/1563 [==============================] - 12s 7ms/step - loss: 0.5821 - accuracy: 0.8239 - val_loss: 0.5936 - val_accuracy: 0.8257\n",
            "Epoch 23/50\n",
            "1563/1563 [==============================] - 12s 7ms/step - loss: 0.5751 - accuracy: 0.8274 - val_loss: 0.6182 - val_accuracy: 0.8139\n",
            "Epoch 24/50\n",
            "1563/1563 [==============================] - 11s 7ms/step - loss: 0.5622 - accuracy: 0.8328 - val_loss: 0.6116 - val_accuracy: 0.8214\n",
            "Epoch 25/50\n",
            "1563/1563 [==============================] - 11s 7ms/step - loss: 0.5556 - accuracy: 0.8334 - val_loss: 0.6004 - val_accuracy: 0.8205\n",
            "Epoch 26/50\n",
            "1563/1563 [==============================] - 12s 7ms/step - loss: 0.5389 - accuracy: 0.8399 - val_loss: 0.5800 - val_accuracy: 0.8321\n",
            "Epoch 27/50\n",
            "1563/1563 [==============================] - 12s 7ms/step - loss: 0.5328 - accuracy: 0.8417 - val_loss: 0.5936 - val_accuracy: 0.8240\n",
            "Epoch 28/50\n",
            "1563/1563 [==============================] - 11s 7ms/step - loss: 0.5266 - accuracy: 0.8461 - val_loss: 0.6085 - val_accuracy: 0.8218\n",
            "Epoch 29/50\n",
            "1563/1563 [==============================] - 12s 7ms/step - loss: 0.5225 - accuracy: 0.8470 - val_loss: 0.6049 - val_accuracy: 0.8233\n",
            "Epoch 30/50\n",
            "1563/1563 [==============================] - 11s 7ms/step - loss: 0.5086 - accuracy: 0.8530 - val_loss: 0.6023 - val_accuracy: 0.8286\n",
            "Epoch 31/50\n",
            "1563/1563 [==============================] - 11s 7ms/step - loss: 0.5028 - accuracy: 0.8515 - val_loss: 0.6023 - val_accuracy: 0.8239\n",
            "Epoch 32/50\n",
            "1563/1563 [==============================] - 11s 7ms/step - loss: 0.4913 - accuracy: 0.8585 - val_loss: 0.6140 - val_accuracy: 0.8228\n",
            "Epoch 33/50\n",
            "1563/1563 [==============================] - 11s 7ms/step - loss: 0.4843 - accuracy: 0.8598 - val_loss: 0.5728 - val_accuracy: 0.8360\n",
            "Epoch 34/50\n",
            "1563/1563 [==============================] - 11s 7ms/step - loss: 0.4797 - accuracy: 0.8616 - val_loss: 0.5922 - val_accuracy: 0.8326\n",
            "Epoch 35/50\n",
            "1563/1563 [==============================] - 11s 7ms/step - loss: 0.4723 - accuracy: 0.8643 - val_loss: 0.5784 - val_accuracy: 0.8350\n",
            "Epoch 36/50\n",
            "1563/1563 [==============================] - 11s 7ms/step - loss: 0.4611 - accuracy: 0.8671 - val_loss: 0.6000 - val_accuracy: 0.8323\n",
            "Epoch 37/50\n",
            "1563/1563 [==============================] - 11s 7ms/step - loss: 0.4587 - accuracy: 0.8695 - val_loss: 0.5736 - val_accuracy: 0.8353\n",
            "Epoch 38/50\n",
            "1563/1563 [==============================] - 12s 7ms/step - loss: 0.4536 - accuracy: 0.8706 - val_loss: 0.5639 - val_accuracy: 0.8454\n",
            "Epoch 39/50\n",
            "1563/1563 [==============================] - 12s 7ms/step - loss: 0.4495 - accuracy: 0.8711 - val_loss: 0.5701 - val_accuracy: 0.8405\n",
            "Epoch 40/50\n",
            "1563/1563 [==============================] - 12s 7ms/step - loss: 0.4412 - accuracy: 0.8762 - val_loss: 0.5727 - val_accuracy: 0.8395\n",
            "Epoch 41/50\n",
            "1563/1563 [==============================] - 11s 7ms/step - loss: 0.4357 - accuracy: 0.8771 - val_loss: 0.5773 - val_accuracy: 0.8411\n",
            "Epoch 42/50\n",
            "1563/1563 [==============================] - 12s 8ms/step - loss: 0.4289 - accuracy: 0.8803 - val_loss: 0.5870 - val_accuracy: 0.8353\n",
            "Epoch 43/50\n",
            "1563/1563 [==============================] - 11s 7ms/step - loss: 0.4274 - accuracy: 0.8798 - val_loss: 0.5892 - val_accuracy: 0.8376\n",
            "Epoch 44/50\n",
            "1563/1563 [==============================] - 12s 7ms/step - loss: 0.4240 - accuracy: 0.8819 - val_loss: 0.5928 - val_accuracy: 0.8406\n",
            "Epoch 45/50\n",
            "1563/1563 [==============================] - 12s 7ms/step - loss: 0.4181 - accuracy: 0.8841 - val_loss: 0.6012 - val_accuracy: 0.8395\n",
            "Epoch 46/50\n",
            "1563/1563 [==============================] - 11s 7ms/step - loss: 0.4163 - accuracy: 0.8844 - val_loss: 0.5650 - val_accuracy: 0.8464\n",
            "Epoch 47/50\n",
            "1563/1563 [==============================] - 12s 8ms/step - loss: 0.4082 - accuracy: 0.8865 - val_loss: 0.5785 - val_accuracy: 0.8483\n",
            "Epoch 48/50\n",
            "1563/1563 [==============================] - 12s 7ms/step - loss: 0.4017 - accuracy: 0.8900 - val_loss: 0.5761 - val_accuracy: 0.8442\n",
            "Epoch 49/50\n",
            "1563/1563 [==============================] - 12s 7ms/step - loss: 0.3975 - accuracy: 0.8902 - val_loss: 0.5737 - val_accuracy: 0.8460\n",
            "Epoch 50/50\n",
            "1563/1563 [==============================] - 12s 7ms/step - loss: 0.3975 - accuracy: 0.8919 - val_loss: 0.5831 - val_accuracy: 0.8407\n"
          ]
        },
        {
          "output_type": "execute_result",
          "data": {
            "text/plain": [
              "<keras.callbacks.History at 0x7f1b700895d0>"
            ]
          },
          "metadata": {},
          "execution_count": 17
        }
      ]
    },
    {
      "cell_type": "code",
      "source": [
        "model.evaluate(X_test,y_test)"
      ],
      "metadata": {
        "colab": {
          "base_uri": "https://localhost:8080/"
        },
        "id": "XXqlaDrlpIL7",
        "outputId": "d45ca06c-273c-48b2-bb14-e44d351f40e5"
      },
      "execution_count": 18,
      "outputs": [
        {
          "output_type": "stream",
          "name": "stdout",
          "text": [
            "313/313 [==============================] - 1s 4ms/step - loss: 0.5831 - accuracy: 0.8407\n"
          ]
        },
        {
          "output_type": "execute_result",
          "data": {
            "text/plain": [
              "[0.5831173062324524, 0.8406999707221985]"
            ]
          },
          "metadata": {},
          "execution_count": 18
        }
      ]
    },
    {
      "cell_type": "code",
      "source": [
        ""
      ],
      "metadata": {
        "id": "BOwgcOOhrjjP"
      },
      "execution_count": 18,
      "outputs": []
    }
  ]
}