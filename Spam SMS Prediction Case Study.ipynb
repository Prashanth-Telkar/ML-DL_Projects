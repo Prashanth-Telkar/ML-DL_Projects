{
 "cells": [
  {
   "cell_type": "markdown",
   "metadata": {},
   "source": [
    "# Spam SMS Prediction Case Study\n",
    "\n",
    "### Problem Statement:\n",
    "We have data containing sms and the class they belong to ie. spam/ham. We need a classifier model which can classify the sms into ham or spam class.\n",
    "\n",
    "## Naive Bayes Model"
   ]
  },
  {
   "cell_type": "code",
   "execution_count": 1,
   "metadata": {},
   "outputs": [],
   "source": [
    "import numpy as np, pandas as pd\n",
    "import matplotlib.pyplot as plt\n",
    "import seaborn as sns\n",
    "\n",
    "import sklearn\n",
    "from sklearn.model_selection import train_test_split\n",
    "from sklearn.feature_extraction.text import CountVectorizer\n",
    "from sklearn.naive_bayes import MultinomialNB,BernoulliNB\n",
    "from sklearn import metrics\n",
    "\n",
    "import warnings\n",
    "warnings.filterwarnings('ignore')"
   ]
  },
  {
   "cell_type": "code",
   "execution_count": 2,
   "metadata": {},
   "outputs": [
    {
     "data": {
      "text/html": [
       "<div>\n",
       "<style scoped>\n",
       "    .dataframe tbody tr th:only-of-type {\n",
       "        vertical-align: middle;\n",
       "    }\n",
       "\n",
       "    .dataframe tbody tr th {\n",
       "        vertical-align: top;\n",
       "    }\n",
       "\n",
       "    .dataframe thead th {\n",
       "        text-align: right;\n",
       "    }\n",
       "</style>\n",
       "<table border=\"1\" class=\"dataframe\">\n",
       "  <thead>\n",
       "    <tr style=\"text-align: right;\">\n",
       "      <th></th>\n",
       "      <th>Class</th>\n",
       "      <th>sms</th>\n",
       "    </tr>\n",
       "  </thead>\n",
       "  <tbody>\n",
       "    <tr>\n",
       "      <th>0</th>\n",
       "      <td>ham</td>\n",
       "      <td>Go until jurong point, crazy.. Available only ...</td>\n",
       "    </tr>\n",
       "    <tr>\n",
       "      <th>1</th>\n",
       "      <td>ham</td>\n",
       "      <td>Ok lar... Joking wif u oni...</td>\n",
       "    </tr>\n",
       "    <tr>\n",
       "      <th>2</th>\n",
       "      <td>spam</td>\n",
       "      <td>Free entry in 2 a wkly comp to win FA Cup fina...</td>\n",
       "    </tr>\n",
       "    <tr>\n",
       "      <th>3</th>\n",
       "      <td>ham</td>\n",
       "      <td>U dun say so early hor... U c already then say...</td>\n",
       "    </tr>\n",
       "    <tr>\n",
       "      <th>4</th>\n",
       "      <td>ham</td>\n",
       "      <td>Nah I don't think he goes to usf, he lives aro...</td>\n",
       "    </tr>\n",
       "    <tr>\n",
       "      <th>...</th>\n",
       "      <td>...</td>\n",
       "      <td>...</td>\n",
       "    </tr>\n",
       "    <tr>\n",
       "      <th>5567</th>\n",
       "      <td>spam</td>\n",
       "      <td>This is the 2nd time we have tried 2 contact u...</td>\n",
       "    </tr>\n",
       "    <tr>\n",
       "      <th>5568</th>\n",
       "      <td>ham</td>\n",
       "      <td>Will ü b going to esplanade fr home?</td>\n",
       "    </tr>\n",
       "    <tr>\n",
       "      <th>5569</th>\n",
       "      <td>ham</td>\n",
       "      <td>Pity, * was in mood for that. So...any other s...</td>\n",
       "    </tr>\n",
       "    <tr>\n",
       "      <th>5570</th>\n",
       "      <td>ham</td>\n",
       "      <td>The guy did some bitching but I acted like i'd...</td>\n",
       "    </tr>\n",
       "    <tr>\n",
       "      <th>5571</th>\n",
       "      <td>ham</td>\n",
       "      <td>Rofl. Its true to its name</td>\n",
       "    </tr>\n",
       "  </tbody>\n",
       "</table>\n",
       "<p>5572 rows × 2 columns</p>\n",
       "</div>"
      ],
      "text/plain": [
       "     Class                                                sms\n",
       "0      ham  Go until jurong point, crazy.. Available only ...\n",
       "1      ham                      Ok lar... Joking wif u oni...\n",
       "2     spam  Free entry in 2 a wkly comp to win FA Cup fina...\n",
       "3      ham  U dun say so early hor... U c already then say...\n",
       "4      ham  Nah I don't think he goes to usf, he lives aro...\n",
       "...    ...                                                ...\n",
       "5567  spam  This is the 2nd time we have tried 2 contact u...\n",
       "5568   ham               Will ü b going to esplanade fr home?\n",
       "5569   ham  Pity, * was in mood for that. So...any other s...\n",
       "5570   ham  The guy did some bitching but I acted like i'd...\n",
       "5571   ham                         Rofl. Its true to its name\n",
       "\n",
       "[5572 rows x 2 columns]"
      ]
     },
     "execution_count": 2,
     "metadata": {},
     "output_type": "execute_result"
    }
   ],
   "source": [
    "# Reading the sms data:\n",
    "df=pd.read_table('D:\\Machine_Learning And AI\\MachineLearning\\SMS Case Study\\SMSSpamCollection.txt',header=None,names=['Class','sms'])\n",
    "df"
   ]
  },
  {
   "cell_type": "code",
   "execution_count": 3,
   "metadata": {},
   "outputs": [
    {
     "name": "stdout",
     "output_type": "stream",
     "text": [
      "<class 'pandas.core.frame.DataFrame'>\n",
      "RangeIndex: 5572 entries, 0 to 5571\n",
      "Data columns (total 2 columns):\n",
      " #   Column  Non-Null Count  Dtype \n",
      "---  ------  --------------  ----- \n",
      " 0   Class   5572 non-null   object\n",
      " 1   sms     5572 non-null   object\n",
      "dtypes: object(2)\n",
      "memory usage: 87.2+ KB\n"
     ]
    }
   ],
   "source": [
    "df.info()"
   ]
  },
  {
   "cell_type": "code",
   "execution_count": 4,
   "metadata": {},
   "outputs": [
    {
     "data": {
      "text/html": [
       "<div>\n",
       "<style scoped>\n",
       "    .dataframe tbody tr th:only-of-type {\n",
       "        vertical-align: middle;\n",
       "    }\n",
       "\n",
       "    .dataframe tbody tr th {\n",
       "        vertical-align: top;\n",
       "    }\n",
       "\n",
       "    .dataframe thead th {\n",
       "        text-align: right;\n",
       "    }\n",
       "</style>\n",
       "<table border=\"1\" class=\"dataframe\">\n",
       "  <thead>\n",
       "    <tr style=\"text-align: right;\">\n",
       "      <th></th>\n",
       "      <th>Class</th>\n",
       "      <th>sms</th>\n",
       "    </tr>\n",
       "  </thead>\n",
       "  <tbody>\n",
       "    <tr>\n",
       "      <th>0</th>\n",
       "      <td>0</td>\n",
       "      <td>Go until jurong point, crazy.. Available only ...</td>\n",
       "    </tr>\n",
       "    <tr>\n",
       "      <th>1</th>\n",
       "      <td>0</td>\n",
       "      <td>Ok lar... Joking wif u oni...</td>\n",
       "    </tr>\n",
       "    <tr>\n",
       "      <th>2</th>\n",
       "      <td>1</td>\n",
       "      <td>Free entry in 2 a wkly comp to win FA Cup fina...</td>\n",
       "    </tr>\n",
       "    <tr>\n",
       "      <th>3</th>\n",
       "      <td>0</td>\n",
       "      <td>U dun say so early hor... U c already then say...</td>\n",
       "    </tr>\n",
       "    <tr>\n",
       "      <th>4</th>\n",
       "      <td>0</td>\n",
       "      <td>Nah I don't think he goes to usf, he lives aro...</td>\n",
       "    </tr>\n",
       "    <tr>\n",
       "      <th>...</th>\n",
       "      <td>...</td>\n",
       "      <td>...</td>\n",
       "    </tr>\n",
       "    <tr>\n",
       "      <th>5567</th>\n",
       "      <td>1</td>\n",
       "      <td>This is the 2nd time we have tried 2 contact u...</td>\n",
       "    </tr>\n",
       "    <tr>\n",
       "      <th>5568</th>\n",
       "      <td>0</td>\n",
       "      <td>Will ü b going to esplanade fr home?</td>\n",
       "    </tr>\n",
       "    <tr>\n",
       "      <th>5569</th>\n",
       "      <td>0</td>\n",
       "      <td>Pity, * was in mood for that. So...any other s...</td>\n",
       "    </tr>\n",
       "    <tr>\n",
       "      <th>5570</th>\n",
       "      <td>0</td>\n",
       "      <td>The guy did some bitching but I acted like i'd...</td>\n",
       "    </tr>\n",
       "    <tr>\n",
       "      <th>5571</th>\n",
       "      <td>0</td>\n",
       "      <td>Rofl. Its true to its name</td>\n",
       "    </tr>\n",
       "  </tbody>\n",
       "</table>\n",
       "<p>5572 rows × 2 columns</p>\n",
       "</div>"
      ],
      "text/plain": [
       "      Class                                                sms\n",
       "0         0  Go until jurong point, crazy.. Available only ...\n",
       "1         0                      Ok lar... Joking wif u oni...\n",
       "2         1  Free entry in 2 a wkly comp to win FA Cup fina...\n",
       "3         0  U dun say so early hor... U c already then say...\n",
       "4         0  Nah I don't think he goes to usf, he lives aro...\n",
       "...     ...                                                ...\n",
       "5567      1  This is the 2nd time we have tried 2 contact u...\n",
       "5568      0               Will ü b going to esplanade fr home?\n",
       "5569      0  Pity, * was in mood for that. So...any other s...\n",
       "5570      0  The guy did some bitching but I acted like i'd...\n",
       "5571      0                         Rofl. Its true to its name\n",
       "\n",
       "[5572 rows x 2 columns]"
      ]
     },
     "execution_count": 4,
     "metadata": {},
     "output_type": "execute_result"
    }
   ],
   "source": [
    "# Assigning spam and ham as 1 and 0:\n",
    "df['Class']=df['Class'].replace({'spam':1,'ham':0})\n",
    "df"
   ]
  },
  {
   "cell_type": "code",
   "execution_count": 5,
   "metadata": {},
   "outputs": [
    {
     "data": {
      "text/html": [
       "<div>\n",
       "<style scoped>\n",
       "    .dataframe tbody tr th:only-of-type {\n",
       "        vertical-align: middle;\n",
       "    }\n",
       "\n",
       "    .dataframe tbody tr th {\n",
       "        vertical-align: top;\n",
       "    }\n",
       "\n",
       "    .dataframe thead th {\n",
       "        text-align: right;\n",
       "    }\n",
       "</style>\n",
       "<table border=\"1\" class=\"dataframe\">\n",
       "  <thead>\n",
       "    <tr style=\"text-align: right;\">\n",
       "      <th></th>\n",
       "      <th>Class</th>\n",
       "      <th>sms</th>\n",
       "    </tr>\n",
       "  </thead>\n",
       "  <tbody>\n",
       "    <tr>\n",
       "      <th>4393</th>\n",
       "      <td>0</td>\n",
       "      <td>what are your new years plans?</td>\n",
       "    </tr>\n",
       "    <tr>\n",
       "      <th>216</th>\n",
       "      <td>0</td>\n",
       "      <td>Finally the match heading towards draw as your...</td>\n",
       "    </tr>\n",
       "    <tr>\n",
       "      <th>4471</th>\n",
       "      <td>0</td>\n",
       "      <td>Lemme know when I can swing by and pick up, I'...</td>\n",
       "    </tr>\n",
       "    <tr>\n",
       "      <th>3889</th>\n",
       "      <td>0</td>\n",
       "      <td>ok....take care.umma to you too...</td>\n",
       "    </tr>\n",
       "    <tr>\n",
       "      <th>5030</th>\n",
       "      <td>1</td>\n",
       "      <td>I'd like to tell you my deepest darkest fantas...</td>\n",
       "    </tr>\n",
       "    <tr>\n",
       "      <th>...</th>\n",
       "      <td>...</td>\n",
       "      <td>...</td>\n",
       "    </tr>\n",
       "    <tr>\n",
       "      <th>905</th>\n",
       "      <td>0</td>\n",
       "      <td>We're all getting worried over here, derek and...</td>\n",
       "    </tr>\n",
       "    <tr>\n",
       "      <th>5192</th>\n",
       "      <td>0</td>\n",
       "      <td>Oh oh... Den muz change plan liao... Go back h...</td>\n",
       "    </tr>\n",
       "    <tr>\n",
       "      <th>3980</th>\n",
       "      <td>0</td>\n",
       "      <td>CERI U REBEL! SWEET DREAMZ ME LITTLE BUDDY!! C...</td>\n",
       "    </tr>\n",
       "    <tr>\n",
       "      <th>235</th>\n",
       "      <td>1</td>\n",
       "      <td>Text &amp; meet someone sexy today. U can find a d...</td>\n",
       "    </tr>\n",
       "    <tr>\n",
       "      <th>5157</th>\n",
       "      <td>0</td>\n",
       "      <td>K k:) sms chat with me.</td>\n",
       "    </tr>\n",
       "  </tbody>\n",
       "</table>\n",
       "<p>3900 rows × 2 columns</p>\n",
       "</div>"
      ],
      "text/plain": [
       "      Class                                                sms\n",
       "4393      0                     what are your new years plans?\n",
       "216       0  Finally the match heading towards draw as your...\n",
       "4471      0  Lemme know when I can swing by and pick up, I'...\n",
       "3889      0                 ok....take care.umma to you too...\n",
       "5030      1  I'd like to tell you my deepest darkest fantas...\n",
       "...     ...                                                ...\n",
       "905       0  We're all getting worried over here, derek and...\n",
       "5192      0  Oh oh... Den muz change plan liao... Go back h...\n",
       "3980      0  CERI U REBEL! SWEET DREAMZ ME LITTLE BUDDY!! C...\n",
       "235       1  Text & meet someone sexy today. U can find a d...\n",
       "5157      0                            K k:) sms chat with me.\n",
       "\n",
       "[3900 rows x 2 columns]"
      ]
     },
     "execution_count": 5,
     "metadata": {},
     "output_type": "execute_result"
    }
   ],
   "source": [
    "# Train test split\n",
    "df_train,df_test=train_test_split(df,train_size=0.7,random_state=1)\n",
    "df_train"
   ]
  },
  {
   "cell_type": "code",
   "execution_count": 6,
   "metadata": {},
   "outputs": [
    {
     "data": {
      "text/plain": [
       "array([[0, 'what are your new years plans?'],\n",
       "       [0, 'Finally the match heading towards draw as your prediction.'],\n",
       "       [0,\n",
       "        \"Lemme know when I can swing by and pick up, I'm free basically any time after 1 all this semester\"],\n",
       "       ...,\n",
       "       [0,\n",
       "        'CERI U REBEL! SWEET DREAMZ ME LITTLE BUDDY!! C YA 2MORO! WHO NEEDS BLOKES'],\n",
       "       [1,\n",
       "        'Text & meet someone sexy today. U can find a date or even flirt its up to U. Join 4 just 10p. REPLY with NAME & AGE eg Sam 25. 18 -msg recd@thirtyeight pence'],\n",
       "       [0, 'K k:) sms chat with me.']], dtype=object)"
      ]
     },
     "execution_count": 6,
     "metadata": {},
     "output_type": "execute_result"
    }
   ],
   "source": [
    "# Converting to array:\n",
    "df_train=df_train.values\n",
    "df_test=df_test.values\n",
    "df_train"
   ]
  },
  {
   "cell_type": "code",
   "execution_count": 7,
   "metadata": {
    "scrolled": true
   },
   "outputs": [
    {
     "data": {
      "text/plain": [
       "array(['what are your new years plans?',\n",
       "       'Finally the match heading towards draw as your prediction.',\n",
       "       \"Lemme know when I can swing by and pick up, I'm free basically any time after 1 all this semester\",\n",
       "       ...,\n",
       "       'CERI U REBEL! SWEET DREAMZ ME LITTLE BUDDY!! C YA 2MORO! WHO NEEDS BLOKES',\n",
       "       'Text & meet someone sexy today. U can find a date or even flirt its up to U. Join 4 just 10p. REPLY with NAME & AGE eg Sam 25. 18 -msg recd@thirtyeight pence',\n",
       "       'K k:) sms chat with me.'], dtype=object)"
      ]
     },
     "execution_count": 7,
     "metadata": {},
     "output_type": "execute_result"
    }
   ],
   "source": [
    "X_train=df_train[:,1]\n",
    "y_train=df_train[:,0].astype('int')\n",
    "X_test=df_test[:,1]\n",
    "y_test=df_test[:,0].astype('int')\n",
    "X_train"
   ]
  },
  {
   "cell_type": "code",
   "execution_count": 8,
   "metadata": {},
   "outputs": [],
   "source": [
    "cv=CountVectorizer(stop_words='english')"
   ]
  },
  {
   "cell_type": "code",
   "execution_count": 9,
   "metadata": {},
   "outputs": [
    {
     "name": "stdout",
     "output_type": "stream",
     "text": [
      "  (0, 4272)\t1\n",
      "  (0, 6855)\t1\n",
      "  (0, 4682)\t1\n",
      "  (1, 2550)\t1\n",
      "  (1, 3930)\t1\n",
      "  (1, 3018)\t1\n",
      "  (1, 2202)\t1\n",
      "  (1, 4801)\t1\n",
      "  (2, 3650)\t1\n",
      "  (2, 3548)\t1\n",
      "  (2, 5957)\t1\n",
      "  (2, 4644)\t1\n",
      "  (2, 2663)\t1\n",
      "  (2, 1119)\t1\n",
      "  (2, 6163)\t1\n",
      "  (2, 5369)\t1\n",
      "  (3, 4406)\t1\n",
      "  (3, 1485)\t1\n",
      "  (3, 6353)\t1\n",
      "  (4, 3685)\t1\n",
      "  (4, 6043)\t1\n",
      "  (4, 2000)\t1\n",
      "  (4, 1949)\t1\n",
      "  (4, 2478)\t1\n",
      "  (4, 222)\t1\n",
      "  :\t:\n",
      "  (3897, 1542)\t1\n",
      "  (3897, 5026)\t1\n",
      "  (3897, 2207)\t1\n",
      "  (3897, 1386)\t1\n",
      "  (3897, 1252)\t1\n",
      "  (3898, 3472)\t1\n",
      "  (3898, 3435)\t1\n",
      "  (3898, 4148)\t1\n",
      "  (3898, 6074)\t1\n",
      "  (3898, 5115)\t1\n",
      "  (3898, 799)\t1\n",
      "  (3898, 6196)\t1\n",
      "  (3898, 243)\t1\n",
      "  (3898, 5399)\t1\n",
      "  (3898, 344)\t1\n",
      "  (3898, 295)\t1\n",
      "  (3898, 4584)\t1\n",
      "  (3898, 3966)\t1\n",
      "  (3898, 1959)\t1\n",
      "  (3898, 5273)\t1\n",
      "  (3898, 5031)\t1\n",
      "  (3898, 2590)\t1\n",
      "  (3898, 6122)\t1\n",
      "  (3899, 1574)\t1\n",
      "  (3899, 5590)\t1\n"
     ]
    }
   ],
   "source": [
    "# Compressed Sparse Row format:\n",
    "X_train_transformed=cv.fit_transform(X_train,y_train)\n",
    "X_test_transformed=cv.transform(X_test)\n",
    "print(X_train_transformed)"
   ]
  },
  {
   "cell_type": "code",
   "execution_count": 10,
   "metadata": {},
   "outputs": [
    {
     "data": {
      "text/plain": [
       "(3900, 6904)"
      ]
     },
     "execution_count": 10,
     "metadata": {},
     "output_type": "execute_result"
    }
   ],
   "source": [
    "# Shape of Sparse matrix\n",
    "X_train_transformed.toarray().shape"
   ]
  },
  {
   "cell_type": "code",
   "execution_count": 11,
   "metadata": {},
   "outputs": [
    {
     "data": {
      "text/plain": [
       "<1672x6904 sparse matrix of type '<class 'numpy.int64'>'\n",
       "\twith 11751 stored elements in Compressed Sparse Row format>"
      ]
     },
     "execution_count": 11,
     "metadata": {},
     "output_type": "execute_result"
    }
   ],
   "source": [
    "X_test_transformed"
   ]
  },
  {
   "cell_type": "markdown",
   "metadata": {},
   "source": [
    "## Naive Bayes Model Building\n",
    "\n",
    "### Multinominal Naive Bayes"
   ]
  },
  {
   "cell_type": "code",
   "execution_count": 12,
   "metadata": {},
   "outputs": [
    {
     "data": {
      "text/plain": [
       "MultinomialNB()"
      ]
     },
     "execution_count": 12,
     "metadata": {},
     "output_type": "execute_result"
    }
   ],
   "source": [
    "# Building Multinominal Naive Bayes model:\n",
    "mnb=MultinomialNB()\n",
    "mnb.fit(X_train_transformed,y_train)"
   ]
  },
  {
   "cell_type": "code",
   "execution_count": 13,
   "metadata": {},
   "outputs": [
    {
     "data": {
      "text/plain": [
       "array([[9.64336581e-01, 3.56634193e-02],\n",
       "       [4.89638513e-01, 5.10361487e-01],\n",
       "       [9.99988162e-01, 1.18379856e-05],\n",
       "       ...,\n",
       "       [9.99901427e-01, 9.85732299e-05],\n",
       "       [1.33686774e-09, 9.99999999e-01],\n",
       "       [2.44499123e-01, 7.55500877e-01]])"
      ]
     },
     "execution_count": 13,
     "metadata": {},
     "output_type": "execute_result"
    }
   ],
   "source": [
    "# Predicting probabalities for train set:\n",
    "mnb.predict_proba(X_train_transformed)"
   ]
  },
  {
   "cell_type": "code",
   "execution_count": 14,
   "metadata": {},
   "outputs": [
    {
     "data": {
      "text/plain": [
       "array([[9.94958999e-01, 5.04100100e-03],\n",
       "       [9.99854067e-01, 1.45932813e-04],\n",
       "       [9.07992380e-01, 9.20076203e-02],\n",
       "       ...,\n",
       "       [9.42539394e-01, 5.74606060e-02],\n",
       "       [9.91184998e-01, 8.81500189e-03],\n",
       "       [9.99990076e-01, 9.92429553e-06]])"
      ]
     },
     "execution_count": 14,
     "metadata": {},
     "output_type": "execute_result"
    }
   ],
   "source": [
    "# Predicting probabalities for test set:\n",
    "mnb.predict_proba(X_test_transformed)"
   ]
  },
  {
   "cell_type": "code",
   "execution_count": 15,
   "metadata": {},
   "outputs": [
    {
     "name": "stdout",
     "output_type": "stream",
     "text": [
      "[0 1 0 ... 0 1 1]\n",
      "[0 0 0 ... 0 0 0]\n"
     ]
    }
   ],
   "source": [
    "y_train_predicted=mnb.predict(X_train_transformed)\n",
    "y_test_predicted=mnb.predict(X_test_transformed)\n",
    "print(y_train_predicted)\n",
    "print(y_test_predicted)"
   ]
  },
  {
   "cell_type": "code",
   "execution_count": 16,
   "metadata": {},
   "outputs": [
    {
     "name": "stdout",
     "output_type": "stream",
     "text": [
      "accuracy_train:0.993846 \n",
      "accuracy_test:0.986244 \n"
     ]
    }
   ],
   "source": [
    "# Checking accuracy:\n",
    "accuracy_train=metrics.accuracy_score(y_train,y_train_predicted)\n",
    "accuracy_test=metrics.accuracy_score(y_test,y_test_predicted)\n",
    "print('accuracy_train:%f '% accuracy_train)\n",
    "print('accuracy_test:%f ' %accuracy_test)"
   ]
  },
  {
   "cell_type": "code",
   "execution_count": 17,
   "metadata": {},
   "outputs": [
    {
     "data": {
      "text/plain": [
       "array([[1434,    8],\n",
       "       [  15,  215]], dtype=int64)"
      ]
     },
     "execution_count": 17,
     "metadata": {},
     "output_type": "execute_result"
    }
   ],
   "source": [
    "# Confusion matrix for test set:\n",
    "conf_mat=metrics.confusion_matrix(y_test,y_test_predicted)\n",
    "conf_mat"
   ]
  },
  {
   "cell_type": "code",
   "execution_count": 18,
   "metadata": {},
   "outputs": [
    {
     "name": "stdout",
     "output_type": "stream",
     "text": [
      "accuracy_test:0.986244 \n",
      "sensitivity:0.934783 \n",
      "specificity:0.994452 \n"
     ]
    }
   ],
   "source": [
    "print('accuracy_test:%f ' %accuracy_test)\n",
    "sensitivity = 215/(215+15)\n",
    "print('sensitivity:%f ' %sensitivity)\n",
    "specificity = 1434/(1434+8)\n",
    "print('specificity:%f ' %specificity)\n",
    "auc_mnb=metrics.roc_auc_score(y_test,y_test_predicted)"
   ]
  },
  {
   "cell_type": "code",
   "execution_count": 19,
   "metadata": {},
   "outputs": [
    {
     "data": {
      "image/png": "[encoded data removed]",
      "text/plain": [
       "<Figure size 432x288 with 1 Axes>"
      ]
     },
     "metadata": {
      "needs_background": "light"
     },
     "output_type": "display_data"
    }
   ],
   "source": [
    "def draw_roc(actual,pred):\n",
    "    fpr,tpr,threshold=metrics.roc_curve(actual,pred,drop_intermediate=False)\n",
    "    auc_score=metrics.roc_auc_score(actual,pred)\n",
    "    plt.plot(fpr,tpr,label='auc_score: %f' %auc_score)\n",
    "    plt.legend(loc='center right')\n",
    "    plt.title('ROC Curve')\n",
    "    plt.xlabel('False Positive Rate')\n",
    "    plt.ylabel('True Positive Rate')\n",
    "    \n",
    "draw_roc(y_test,y_test_predicted) "
   ]
  },
  {
   "cell_type": "markdown",
   "metadata": {},
   "source": [
    "### Bernoulli Naive Bayes"
   ]
  },
  {
   "cell_type": "code",
   "execution_count": 20,
   "metadata": {},
   "outputs": [
    {
     "data": {
      "text/plain": [
       "BernoulliNB()"
      ]
     },
     "execution_count": 20,
     "metadata": {},
     "output_type": "execute_result"
    }
   ],
   "source": [
    "bnb=BernoulliNB()\n",
    "bnb.fit(X_train_transformed,y_train)"
   ]
  },
  {
   "cell_type": "code",
   "execution_count": 21,
   "metadata": {},
   "outputs": [
    {
     "data": {
      "text/plain": [
       "array([0, 0, 0, ..., 0, 0, 0])"
      ]
     },
     "execution_count": 21,
     "metadata": {},
     "output_type": "execute_result"
    }
   ],
   "source": [
    "y_test_pred_bnb=bnb.predict(X_test_transformed)\n",
    "y_test_pred_bnb"
   ]
  },
  {
   "cell_type": "code",
   "execution_count": 22,
   "metadata": {},
   "outputs": [
    {
     "name": "stdout",
     "output_type": "stream",
     "text": [
      "accuracy: 0.973086\n"
     ]
    }
   ],
   "source": [
    "accuracy=metrics.accuracy_score(y_test,y_test_pred_bnb)\n",
    "print('accuracy: %f'%accuracy)"
   ]
  },
  {
   "cell_type": "code",
   "execution_count": 23,
   "metadata": {},
   "outputs": [
    {
     "data": {
      "text/plain": [
       "array([[1441,    1],\n",
       "       [  44,  186]], dtype=int64)"
      ]
     },
     "execution_count": 23,
     "metadata": {},
     "output_type": "execute_result"
    }
   ],
   "source": [
    "metrics.confusion_matrix(y_test,y_test_pred_bnb)"
   ]
  },
  {
   "cell_type": "code",
   "execution_count": 24,
   "metadata": {},
   "outputs": [
    {
     "name": "stdout",
     "output_type": "stream",
     "text": [
      "accuracy:    0.973086\n",
      "sensitivity: 0.808696\n",
      "specificity: 0.999307\n"
     ]
    }
   ],
   "source": [
    "sensitivity_bnb = 186/(44+186)\n",
    "specificity_bnb = 1441/(1441+1)\n",
    "auc_bnb=metrics.roc_auc_score(y_test,y_test_pred_bnb)\n",
    "print('accuracy:    %f'%accuracy)\n",
    "print('sensitivity: %f'%sensitivity_bnb)\n",
    "print('specificity: %f'%specificity_bnb)"
   ]
  },
  {
   "cell_type": "code",
   "execution_count": 25,
   "metadata": {},
   "outputs": [
    {
     "data": {
      "image/png": "[encoded data removed]",
      "text/plain": [
       "<Figure size 432x288 with 1 Axes>"
      ]
     },
     "metadata": {
      "needs_background": "light"
     },
     "output_type": "display_data"
    }
   ],
   "source": [
    "draw_roc(y_test,y_test_pred_bnb)"
   ]
  },
  {
   "cell_type": "markdown",
   "metadata": {},
   "source": [
    "### Comparing the Multinominal and Bernoulli Naive Bayes Models:"
   ]
  },
  {
   "cell_type": "code",
   "execution_count": 26,
   "metadata": {},
   "outputs": [
    {
     "name": "stdout",
     "output_type": "stream",
     "text": [
      "                Multinominal            Bernoulli\n",
      "Accuracy   :  0.986244019138756     0.9730861244019139\n",
      "Sensitivity:  0.9347826086956522    0.808695652173913\n",
      "Specificity:  0.9944521497919556    0.9993065187239945\n",
      "auc_score  :  0.964617379243804     0.9040010854489537\n"
     ]
    }
   ],
   "source": [
    "print('                Multinominal            Bernoulli')\n",
    "print(f'Accuracy   :  {accuracy_test}     {accuracy}')\n",
    "print(f'Sensitivity:  {sensitivity}    {sensitivity_bnb}')\n",
    "print(f'Specificity:  {specificity}    {specificity_bnb}')\n",
    "print(f'auc_score  :  {auc_mnb}     {auc_bnb}')"
   ]
  },
  {
   "cell_type": "markdown",
   "metadata": {},
   "source": [
    "**From the two models we can see that the Beroulli model has high specificity and relatively low accuracy,sensitivity and auc_score.**\n",
    "\n",
    "\n",
    "**But in this case we want to achieve high specificity ie. we want the model to identify all the ham sms correctly even at the expence of predicting the spam sms as ham sometimes. Here we do not want the model to misclassify the ham sms.**\n",
    "\n",
    "**Hence as per our requirement the best model would be Bernoullis model even at the expence of accuracy,sensitivity and auc_score.**\n",
    "\n",
    "**Bernoullis model correctly classifies 99.93% of ham sms.**\n",
    "\n",
    "**Hence we can go ahead with this model and use it for classifying the sms into spam or ham class.**"
   ]
  }
 ],
 "metadata": {
  "kernelspec": {
   "display_name": "Python 3",
   "language": "python",
   "name": "python3"
  },
  "language_info": {
   "codemirror_mode": {
    "name": "ipython",
    "version": 3
   },
   "file_extension": ".py",
   "mimetype": "text/x-python",
   "name": "python",
   "nbconvert_exporter": "python",
   "pygments_lexer": "ipython3",
   "version": "3.8.3"
  }
 },
 "nbformat": 4,
 "nbformat_minor": 4
}
